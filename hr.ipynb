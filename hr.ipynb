{
 "cells": [
  {
   "cell_type": "code",
   "execution_count": 249,
   "metadata": {
    "collapsed": false
   },
   "outputs": [],
   "source": [
    "from pyspark.context import SparkContext\n",
    "from pyspark.mllib.regression import LabeledPoint\n",
    "from pyspark.mllib.evaluation import BinaryClassificationMetrics\n",
    "from pyspark.mllib.stat import Statistics\n",
    "\n",
    "import seaborn as sns\n",
    "import matplotlib.pyplot as plt\n",
    "%matplotlib inline \n",
    "\n",
    "import numpy as np\n",
    "import pandas as pd"
   ]
  },
  {
   "cell_type": "code",
   "execution_count": 250,
   "metadata": {
    "collapsed": false
   },
   "outputs": [],
   "source": [
    "sc = SparkContext.getOrCreate()\n",
    "\n",
    "#sqlContext = SparkSession.builder.master(\"local[*]\").appName(\"appName\")\\\n",
    "#                         .config(\"spark.sql.warehouse.dir\", \"./spark-warehouse\").getOrCreate()\n"
   ]
  },
  {
   "cell_type": "code",
   "execution_count": 251,
   "metadata": {
    "collapsed": false
   },
   "outputs": [
    {
     "name": "stdout",
     "output_type": "stream",
     "text": [
      "[['satisfaction_level', 'last_evaluation', 'number_project', 'average_montly_hours', 'time_spend_company', 'Work_accident', 'left', 'promotion_last_5years', 'sales', 'salary'], ['0.38', '0.53', '2', '157', '3', '0', '1', '0', 'sales', 'low'], ['0.8', '0.86', '5', '262', '6', '0', '1', '0', 'sales', 'medium'], ['0.11', '0.88', '7', '272', '4', '0', '1', '0', 'sales', 'medium'], ['0.72', '0.87', '5', '223', '5', '0', '1', '0', 'sales', 'low']]\n"
     ]
    }
   ],
   "source": [
    "#Reading the data\n",
    "\n",
    "dataRDD = sc.textFile(\"../input/HR_comma_sep.csv\")\\\n",
    "         .map(lambda line: line.split(\",\"))\\\n",
    "         .filter(lambda line: len(line)>1)\\\n",
    "         .map(lambda line: [x.encode('UTF8') for x in line])\\\n",
    "         .cache()\n",
    "\n",
    "\n",
    "print dataRDD.take(5)"
   ]
  },
  {
   "cell_type": "code",
   "execution_count": 252,
   "metadata": {
    "collapsed": false
   },
   "outputs": [
    {
     "name": "stdout",
     "output_type": "stream",
     "text": [
      "['satisfaction_level', 'last_evaluation', 'number_project', 'average_montly_hours', 'time_spend_company', 'Work_accident', 'left', 'promotion_last_5years', 'sales', 'salary']\n"
     ]
    }
   ],
   "source": [
    "header = dataRDD.first()\n",
    "\n",
    "print header\n",
    "\n",
    "dataRDD = dataRDD.filter(lambda x: x != header)\n",
    "all_depts = list(set(dataRDD.map(lambda line: line[-2]).collect()))\n",
    "all_salaries = list(set(dataRDD.map(lambda line: line[-1]).collect()))\n",
    "#all_lefts = list(set(dataRDD.map(lambda line: line[-4]).collect()))"
   ]
  },
  {
   "cell_type": "code",
   "execution_count": 253,
   "metadata": {
    "collapsed": false
   },
   "outputs": [
    {
     "name": "stdout",
     "output_type": "stream",
     "text": [
      "[['0.38', '0.53', '2', '157', '3', '0', '1', '0', 'sales', 'low'], ['0.8', '0.86', '5', '262', '6', '0', '1', '0', 'sales', 'medium'], ['0.11', '0.88', '7', '272', '4', '0', '1', '0', 'sales', 'medium'], ['0.72', '0.87', '5', '223', '5', '0', '1', '0', 'sales', 'low'], ['0.37', '0.52', '2', '159', '3', '0', '1', '0', 'sales', 'low']]\n"
     ]
    }
   ],
   "source": [
    "print dataRDD.collect()[:5]"
   ]
  },
  {
   "cell_type": "code",
   "execution_count": 254,
   "metadata": {
    "collapsed": false
   },
   "outputs": [
    {
     "name": "stdout",
     "output_type": "stream",
     "text": [
      "['management', 'product_mng', 'hr', 'marketing', 'support', 'sales', 'RandD', 'IT', 'technical', 'accounting']\n",
      "['high', 'medium', 'low']\n",
      "{'high': 0, 'medium': 1, 'low': 2}\n",
      "{'management': 0, 'product_mng': 1, 'hr': 2, 'marketing': 3, 'support': 4, 'sales': 5, 'RandD': 6, 'IT': 7, 'technical': 8, 'accounting': 9}\n"
     ]
    }
   ],
   "source": [
    "print all_depts\n",
    "dept_dictionary = {}\n",
    "for i in all_depts: \n",
    "    dept_dictionary[i] = all_depts.index(i)\n",
    "\n",
    "print all_salaries \n",
    "\n",
    "salary_dictionary = {}\n",
    "\n",
    "for i in all_salaries: \n",
    "    salary_dictionary[i] = all_salaries.index(i)\n",
    "    \n",
    "print salary_dictionary\n",
    "print dept_dictionary"
   ]
  },
  {
   "cell_type": "code",
   "execution_count": 255,
   "metadata": {
    "collapsed": true
   },
   "outputs": [],
   "source": [
    "def replaceString(line):\n",
    "    \"\"\"Converts every string member into number\"\"\"\n",
    "    \n",
    "    line[-2], line[-1] = dept_dictionary[line[-2]], salary_dictionary[line[-1]]\n",
    "    \n",
    "    return line"
   ]
  },
  {
   "cell_type": "code",
   "execution_count": 256,
   "metadata": {
    "collapsed": false
   },
   "outputs": [
    {
     "data": {
      "text/html": [
       "<div>\n",
       "<table border=\"1\" class=\"dataframe\">\n",
       "  <thead>\n",
       "    <tr style=\"text-align: right;\">\n",
       "      <th></th>\n",
       "      <th>satisfaction_level</th>\n",
       "      <th>last_evaluation</th>\n",
       "      <th>number_project</th>\n",
       "      <th>average_montly_hours</th>\n",
       "      <th>time_spend_company</th>\n",
       "      <th>Work_accident</th>\n",
       "      <th>left</th>\n",
       "      <th>promotion_last_5years</th>\n",
       "      <th>sales</th>\n",
       "      <th>salary</th>\n",
       "    </tr>\n",
       "  </thead>\n",
       "  <tbody>\n",
       "    <tr>\n",
       "      <th>satisfaction_level</th>\n",
       "      <td>1.000000</td>\n",
       "      <td>0.105021</td>\n",
       "      <td>-0.142970</td>\n",
       "      <td>-0.020048</td>\n",
       "      <td>-0.100866</td>\n",
       "      <td>0.058697</td>\n",
       "      <td>-0.388375</td>\n",
       "      <td>0.025605</td>\n",
       "      <td>-0.017848</td>\n",
       "      <td>-0.050022</td>\n",
       "    </tr>\n",
       "    <tr>\n",
       "      <th>last_evaluation</th>\n",
       "      <td>0.105021</td>\n",
       "      <td>1.000000</td>\n",
       "      <td>0.349333</td>\n",
       "      <td>0.339742</td>\n",
       "      <td>0.131591</td>\n",
       "      <td>-0.007104</td>\n",
       "      <td>0.006567</td>\n",
       "      <td>-0.008684</td>\n",
       "      <td>0.004128</td>\n",
       "      <td>0.013002</td>\n",
       "    </tr>\n",
       "    <tr>\n",
       "      <th>number_project</th>\n",
       "      <td>-0.142970</td>\n",
       "      <td>0.349333</td>\n",
       "      <td>1.000000</td>\n",
       "      <td>0.417211</td>\n",
       "      <td>0.196786</td>\n",
       "      <td>-0.004741</td>\n",
       "      <td>0.023787</td>\n",
       "      <td>-0.006064</td>\n",
       "      <td>0.024619</td>\n",
       "      <td>0.001803</td>\n",
       "    </tr>\n",
       "    <tr>\n",
       "      <th>average_montly_hours</th>\n",
       "      <td>-0.020048</td>\n",
       "      <td>0.339742</td>\n",
       "      <td>0.417211</td>\n",
       "      <td>1.000000</td>\n",
       "      <td>0.127755</td>\n",
       "      <td>-0.010143</td>\n",
       "      <td>0.071287</td>\n",
       "      <td>-0.003544</td>\n",
       "      <td>0.015081</td>\n",
       "      <td>0.002242</td>\n",
       "    </tr>\n",
       "    <tr>\n",
       "      <th>time_spend_company</th>\n",
       "      <td>-0.100866</td>\n",
       "      <td>0.131591</td>\n",
       "      <td>0.196786</td>\n",
       "      <td>0.127755</td>\n",
       "      <td>1.000000</td>\n",
       "      <td>0.002120</td>\n",
       "      <td>0.144822</td>\n",
       "      <td>0.067433</td>\n",
       "      <td>-0.054464</td>\n",
       "      <td>-0.048715</td>\n",
       "    </tr>\n",
       "    <tr>\n",
       "      <th>Work_accident</th>\n",
       "      <td>0.058697</td>\n",
       "      <td>-0.007104</td>\n",
       "      <td>-0.004741</td>\n",
       "      <td>-0.010143</td>\n",
       "      <td>0.002120</td>\n",
       "      <td>1.000000</td>\n",
       "      <td>-0.154622</td>\n",
       "      <td>0.039245</td>\n",
       "      <td>-0.013236</td>\n",
       "      <td>-0.009247</td>\n",
       "    </tr>\n",
       "    <tr>\n",
       "      <th>left</th>\n",
       "      <td>-0.388375</td>\n",
       "      <td>0.006567</td>\n",
       "      <td>0.023787</td>\n",
       "      <td>0.071287</td>\n",
       "      <td>0.144822</td>\n",
       "      <td>-0.154622</td>\n",
       "      <td>1.000000</td>\n",
       "      <td>-0.061788</td>\n",
       "      <td>0.023190</td>\n",
       "      <td>0.157898</td>\n",
       "    </tr>\n",
       "    <tr>\n",
       "      <th>promotion_last_5years</th>\n",
       "      <td>0.025605</td>\n",
       "      <td>-0.008684</td>\n",
       "      <td>-0.006064</td>\n",
       "      <td>-0.003544</td>\n",
       "      <td>0.067433</td>\n",
       "      <td>0.039245</td>\n",
       "      <td>-0.061788</td>\n",
       "      <td>1.000000</td>\n",
       "      <td>-0.069184</td>\n",
       "      <td>-0.098119</td>\n",
       "    </tr>\n",
       "    <tr>\n",
       "      <th>sales</th>\n",
       "      <td>-0.017848</td>\n",
       "      <td>0.004128</td>\n",
       "      <td>0.024619</td>\n",
       "      <td>0.015081</td>\n",
       "      <td>-0.054464</td>\n",
       "      <td>-0.013236</td>\n",
       "      <td>0.023190</td>\n",
       "      <td>-0.069184</td>\n",
       "      <td>1.000000</td>\n",
       "      <td>0.068667</td>\n",
       "    </tr>\n",
       "    <tr>\n",
       "      <th>salary</th>\n",
       "      <td>-0.050022</td>\n",
       "      <td>0.013002</td>\n",
       "      <td>0.001803</td>\n",
       "      <td>0.002242</td>\n",
       "      <td>-0.048715</td>\n",
       "      <td>-0.009247</td>\n",
       "      <td>0.157898</td>\n",
       "      <td>-0.098119</td>\n",
       "      <td>0.068667</td>\n",
       "      <td>1.000000</td>\n",
       "    </tr>\n",
       "  </tbody>\n",
       "</table>\n",
       "</div>"
      ],
      "text/plain": [
       "                       satisfaction_level  last_evaluation  number_project  \\\n",
       "satisfaction_level               1.000000         0.105021       -0.142970   \n",
       "last_evaluation                  0.105021         1.000000        0.349333   \n",
       "number_project                  -0.142970         0.349333        1.000000   \n",
       "average_montly_hours            -0.020048         0.339742        0.417211   \n",
       "time_spend_company              -0.100866         0.131591        0.196786   \n",
       "Work_accident                    0.058697        -0.007104       -0.004741   \n",
       "left                            -0.388375         0.006567        0.023787   \n",
       "promotion_last_5years            0.025605        -0.008684       -0.006064   \n",
       "sales                           -0.017848         0.004128        0.024619   \n",
       "salary                          -0.050022         0.013002        0.001803   \n",
       "\n",
       "                       average_montly_hours  time_spend_company  \\\n",
       "satisfaction_level                -0.020048           -0.100866   \n",
       "last_evaluation                    0.339742            0.131591   \n",
       "number_project                     0.417211            0.196786   \n",
       "average_montly_hours               1.000000            0.127755   \n",
       "time_spend_company                 0.127755            1.000000   \n",
       "Work_accident                     -0.010143            0.002120   \n",
       "left                               0.071287            0.144822   \n",
       "promotion_last_5years             -0.003544            0.067433   \n",
       "sales                              0.015081           -0.054464   \n",
       "salary                             0.002242           -0.048715   \n",
       "\n",
       "                       Work_accident      left  promotion_last_5years  \\\n",
       "satisfaction_level          0.058697 -0.388375               0.025605   \n",
       "last_evaluation            -0.007104  0.006567              -0.008684   \n",
       "number_project             -0.004741  0.023787              -0.006064   \n",
       "average_montly_hours       -0.010143  0.071287              -0.003544   \n",
       "time_spend_company          0.002120  0.144822               0.067433   \n",
       "Work_accident               1.000000 -0.154622               0.039245   \n",
       "left                       -0.154622  1.000000              -0.061788   \n",
       "promotion_last_5years       0.039245 -0.061788               1.000000   \n",
       "sales                      -0.013236  0.023190              -0.069184   \n",
       "salary                     -0.009247  0.157898              -0.098119   \n",
       "\n",
       "                          sales    salary  \n",
       "satisfaction_level    -0.017848 -0.050022  \n",
       "last_evaluation        0.004128  0.013002  \n",
       "number_project         0.024619  0.001803  \n",
       "average_montly_hours   0.015081  0.002242  \n",
       "time_spend_company    -0.054464 -0.048715  \n",
       "Work_accident         -0.013236 -0.009247  \n",
       "left                   0.023190  0.157898  \n",
       "promotion_last_5years -0.069184 -0.098119  \n",
       "sales                  1.000000  0.068667  \n",
       "salary                 0.068667  1.000000  "
      ]
     },
     "execution_count": 256,
     "metadata": {},
     "output_type": "execute_result"
    },
    {
     "data": {
      "image/png": "[encoded data removed]",
      "text/plain": [
       "<matplotlib.figure.Figure at 0x12061b050>"
      ]
     },
     "metadata": {},
     "output_type": "display_data"
    }
   ],
   "source": [
    "#calculate Correlation of each feature\n",
    "\n",
    "allNumRDD = dataRDD.map(replaceString).map(lambda line: [float(x) for x in line])\n",
    "#all number version copy of dataset\n",
    "\n",
    "correlation = Statistics.corr(allNumRDD, method=\"pearson\")\n",
    "#print correlation\n",
    "\n",
    "df = pd.DataFrame(correlation, index=header, columns=header) \n",
    "\n",
    "plt.figure(figsize=(12, 10))\n",
    "sns.heatmap(correlation,\n",
    "            square=True,\n",
    "            xticklabels=header,\n",
    "            yticklabels=header,\n",
    "            cmap=\"YlGnBu\",\n",
    "            annot=True,)\n",
    "            #linewidths=.1)\n",
    "sns.plt.title('Correlation Matrix of different features')\n",
    "\n",
    "df #output the correlation table"
   ]
  },
  {
   "cell_type": "code",
   "execution_count": 257,
   "metadata": {
    "collapsed": false
   },
   "outputs": [
    {
     "name": "stdout",
     "output_type": "stream",
     "text": [
      "[[0.38, 0.53, 2.0, 157.0, 3.0, 0.0, 1.0, 0.0, 5.0, 2.0], [0.8, 0.86, 5.0, 262.0, 6.0, 0.0, 1.0, 0.0, 5.0, 1.0], [0.11, 0.88, 7.0, 272.0, 4.0, 0.0, 1.0, 0.0, 5.0, 1.0], [0.72, 0.87, 5.0, 223.0, 5.0, 0.0, 1.0, 0.0, 5.0, 2.0], [0.37, 0.52, 2.0, 159.0, 3.0, 0.0, 1.0, 0.0, 5.0, 2.0]]\n"
     ]
    },
    {
     "data": {
      "text/plain": [
       "[(0.0, 674.2593104655232), (1.0, 719.2428611433373)]"
      ]
     },
     "execution_count": 257,
     "metadata": {},
     "output_type": "execute_result"
    }
   ],
   "source": [
    "#The mapreduce procedure output how many hours the employee spend on a single project\n",
    "#mean time of two group, left(1.0) or not(0.0)\n",
    "print allNumRDD.collect()[:5]\n",
    "\n",
    "#workEff = allNumRDD.map(lambda line: (line[3]*12 / line[2]))\n",
    "workEfficiency = allNumRDD.map(lambda line: (line[-4], (line[3]*12 / line[2])))\n",
    "\n",
    "meanTime = workEfficiency.map(lambda (k, v): (k, (v, 1))).reduceByKey(lambda a, b: (a[0] + b[0], a[1] + b[1])).map(lambda (k, v): (k, v[0]/v[1])).cache()\n",
    "\n",
    "meanTime.collect()\n"
   ]
  },
  {
   "cell_type": "code",
   "execution_count": 258,
   "metadata": {
    "collapsed": false
   },
   "outputs": [],
   "source": [
    "#two group of work hour, left(1.0) or not(0.0)\n",
    "leftTimeGroup = workEfficiency.groupByKey().mapValues(list).cache()\n",
    "#leftTimeGroup.collect()"
   ]
  },
  {
   "cell_type": "code",
   "execution_count": 259,
   "metadata": {
    "collapsed": false
   },
   "outputs": [],
   "source": [
    "def classifyRange(hour):\n",
    "    if hour <= 749.333:\n",
    "        return 0.0\n",
    "    elif hour > 749.333 and hour <= 1304.667:\n",
    "        return 1.0\n",
    "    elif hout > 1304.667 and hour <= 1860.00:\n",
    "        return 2.0"
   ]
  },
  {
   "cell_type": "code",
   "execution_count": 260,
   "metadata": {
    "collapsed": false,
    "scrolled": true
   },
   "outputs": [
    {
     "data": {
      "text/plain": [
       "(1.0, 1.0)"
      ]
     },
     "execution_count": 260,
     "metadata": {},
     "output_type": "execute_result"
    }
   ],
   "source": [
    "#avgHourRange = workEfficiency.map(lambda (k, v): (v, k)).\n",
    "\n",
    "avgHourProject = workEfficiency.map(lambda (k, v): (k, classifyRange(v)))\n",
    "\n",
    "avgHourProject.first()\n"
   ]
  },
  {
   "cell_type": "code",
   "execution_count": 261,
   "metadata": {
    "collapsed": true
   },
   "outputs": [],
   "source": [
    "#return labeledPoint to do supervised learning\n",
    "def parsePoint(line):\n",
    "    \"\"\"Converts a list of strings into a LabeledPoint\"\"\"\n",
    "    \n",
    "    #line[-2], line[-1] = dept_dictionary[line[-2]], salary_dictionary[line[-1]]\n",
    "    replaceString(line)\n",
    "    datapoints = line[0:-4] + line[-3:]\n",
    "    \n",
    "    return LabeledPoint(float(line[-4]),[float(i) for i in datapoints])"
   ]
  },
  {
   "cell_type": "code",
   "execution_count": 262,
   "metadata": {
    "collapsed": false
   },
   "outputs": [
    {
     "name": "stdout",
     "output_type": "stream",
     "text": [
      "[0.38,0.53,2.0,157.0,3.0,0.0,0.0,5.0,2.0] 1.0\n"
     ]
    }
   ],
   "source": [
    "parsedData = dataRDD.map(parsePoint)\n",
    "firstPointFeatures = parsedData.first().features\n",
    "firstPointLabel = parsedData.first().label\n",
    "print firstPointFeatures, firstPointLabel\n"
   ]
  },
  {
   "cell_type": "code",
   "execution_count": 263,
   "metadata": {
    "collapsed": false
   },
   "outputs": [
    {
     "name": "stdout",
     "output_type": "stream",
     "text": [
      "12068 1489 1442 14999\n",
      "14999\n"
     ]
    }
   ],
   "source": [
    "#parse dataset to three part: train, val, test(8: 1: 1)\n",
    "weights = [.8, .1, .1]\n",
    "seed = 42\n",
    "parsedTrainData, parsedValData, parsedTestData = parsedData.randomSplit(weights,seed)\n",
    "parsedTrainData.cache()\n",
    "parsedValData.cache()\n",
    "parsedTestData.cache()\n",
    "\n",
    "nTrain = parsedTrainData.count()\n",
    "nVal = parsedValData.count()\n",
    "nTest = parsedTestData.count()\n",
    "print nTrain, nVal, nTest, nTrain + nVal + nTest \n",
    "print parsedData.count()\n"
   ]
  },
  {
   "cell_type": "code",
   "execution_count": 264,
   "metadata": {
    "collapsed": false,
    "scrolled": true
   },
   "outputs": [
    {
     "name": "stdout",
     "output_type": "stream",
     "text": [
      "Training Error of Training Data = 0.182217434538\n",
      "Training Error of Testing Data= 0.19278779473\n"
     ]
    }
   ],
   "source": [
    "'''logistic regression'''\n",
    "from pyspark.mllib.classification import LogisticRegressionWithLBFGS, LogisticRegressionModel\n",
    "\n",
    "modelLogReg = LogisticRegressionWithLBFGS.train(parsedTrainData)\n",
    "\n",
    "#train data\n",
    "labelsAndPreds_LRtrain = parsedTrainData.map(lambda p: (p.label, modelLogReg.predict(p.features)))\n",
    "trainErr_LR = labelsAndPreds_LRtrain.filter(lambda (v, p): v != p).count() / float(parsedTrainData.count())\n",
    "print(\"Training Error of Training Data = \" + str(trainErr_LR))\n",
    "\n",
    "#test data\n",
    "labelsAndPreds_LRtest = parsedTestData.map(lambda p: (p.label, modelLogReg.predict(p.features)))\n",
    "testErr_LR = labelsAndPreds_LRtest.filter(lambda (v, p): v != p).count() / float(parsedTestData.count())\n",
    "print(\"Training Error of Testing Data= \" + str(testErr_LR))\n",
    "\n",
    "#model.save(sc, \"target/tmp/pythonLogisticRegressionWithLBFGSModel\")\n",
    "#sameModel = LogisticRegressionModel.load(sc, \"target/tmp/pythonLogisticRegressionWithLBFGSModel\")\n"
   ]
  },
  {
   "cell_type": "code",
   "execution_count": 265,
   "metadata": {
    "collapsed": false
   },
   "outputs": [
    {
     "name": "stdout",
     "output_type": "stream",
     "text": [
      "Training Error of training data = 0.23690752403\n",
      "Training Error of Testing Data = 0.243411927878\n"
     ]
    }
   ],
   "source": [
    "'''SVM'''\n",
    "from pyspark.mllib.classification import SVMWithSGD, SVMModel\n",
    "\n",
    "# Build the model\n",
    "modelSVM = SVMWithSGD.train(parsedTrainData, iterations=100)\n",
    "\n",
    "# Evaluating the model on training data\n",
    "labelsAndPreds_SVMtrain = parsedTrainData.map(lambda p: (p.label, modelSVM.predict(p.features)))\n",
    "trainErr_SVM = labelsAndPreds_SVMtrain.filter(lambda (v, p): v != p).count() / float(parsedTrainData.count())\n",
    "print(\"Training Error of training data = \" + str(trainErr_SVM))\n",
    "\n",
    "# Evaluating the model on testing data\n",
    "labelsAndPreds_SVMtest = parsedTestData.map(lambda p: (p.label, modelSVM.predict(p.features)))\n",
    "testErr_SVM = labelsAndPreds_SVMtest.filter(lambda (v, p): v != p).count() / float(parsedTestData.count())\n",
    "print(\"Training Error of Testing Data = \" + str(testErr_SVM))\n",
    "#iteration 100: Training Error = 0.243411927878\n",
    "#iteration 150: Training Error = 0.244105409154\n",
    "#iteration 200: Training Error = 0.756588072122\n",
    "#iteration 500: Training Error = 0.243411927878\n",
    "\n",
    "# model.save(sc, \"target/tmp/pythonSVMWithSGDModel\")\n",
    "# sameModel = SVMModel.load(sc, \"target/tmp/pythonSVMWithSGDModel\")\n"
   ]
  },
  {
   "cell_type": "code",
   "execution_count": 266,
   "metadata": {
    "collapsed": false
   },
   "outputs": [
    {
     "name": "stdout",
     "output_type": "stream",
     "text": [
      "Train Error of Decision Tree = 0.0272621809745\n",
      "Test Error of Decision Tree = 0.0263522884882\n",
      "Learned classification tree model:\n",
      "DecisionTreeModel classifier of depth 5 with 53 nodes\n",
      "  If (feature 0 <= 0.47)\n",
      "   If (feature 2 <= 2.0)\n",
      "    If (feature 1 <= 0.57)\n",
      "     If (feature 1 <= 0.44)\n",
      "      Predict: 0.0\n",
      "     Else (feature 1 > 0.44)\n",
      "      If (feature 3 <= 125.0)\n",
      "       Predict: 0.0\n",
      "      Else (feature 3 > 125.0)\n",
      "       Predict: 1.0\n",
      "    Else (feature 1 > 0.57)\n",
      "     If (feature 3 <= 272.0)\n",
      "      If (feature 7 <= 7.0)\n",
      "       Predict: 0.0\n",
      "      Else (feature 7 > 7.0)\n",
      "       Predict: 0.0\n",
      "     Else (feature 3 > 272.0)\n",
      "      If (feature 7 <= 3.0)\n",
      "       Predict: 1.0\n",
      "      Else (feature 7 > 3.0)\n",
      "       Predict: 0.0\n",
      "   Else (feature 2 > 2.0)\n",
      "    If (feature 0 <= 0.13)\n",
      "     If (feature 1 <= 0.76)\n",
      "      If (feature 0 <= 0.1)\n",
      "       Predict: 1.0\n",
      "      Else (feature 0 > 0.1)\n",
      "       Predict: 0.0\n",
      "     Else (feature 1 > 0.76)\n",
      "      If (feature 3 <= 240.0)\n",
      "       Predict: 0.0\n",
      "      Else (feature 3 > 240.0)\n",
      "       Predict: 1.0\n",
      "    Else (feature 0 > 0.13)\n",
      "     If (feature 2 <= 6.0)\n",
      "      If (feature 3 <= 282.0)\n",
      "       Predict: 0.0\n",
      "      Else (feature 3 > 282.0)\n",
      "       Predict: 0.0\n",
      "     Else (feature 2 > 6.0)\n",
      "      Predict: 1.0\n",
      "  Else (feature 0 > 0.47)\n",
      "   If (feature 4 <= 4.0)\n",
      "    If (feature 2 <= 6.0)\n",
      "     If (feature 3 <= 282.0)\n",
      "      If (feature 2 <= 5.0)\n",
      "       Predict: 0.0\n",
      "      Else (feature 2 > 5.0)\n",
      "       Predict: 0.0\n",
      "     Else (feature 3 > 282.0)\n",
      "      If (feature 1 <= 0.57)\n",
      "       Predict: 0.0\n",
      "      Else (feature 1 > 0.57)\n",
      "       Predict: 0.0\n",
      "    Else (feature 2 > 6.0)\n",
      "     Predict: 1.0\n",
      "   Else (feature 4 > 4.0)\n",
      "    If (feature 1 <= 0.8)\n",
      "     If (feature 3 <= 272.0)\n",
      "      If (feature 2 <= 6.0)\n",
      "       Predict: 0.0\n",
      "      Else (feature 2 > 6.0)\n",
      "       Predict: 1.0\n",
      "     Else (feature 3 > 272.0)\n",
      "      If (feature 0 <= 0.57)\n",
      "       Predict: 1.0\n",
      "      Else (feature 0 > 0.57)\n",
      "       Predict: 0.0\n",
      "    Else (feature 1 > 0.8)\n",
      "     If (feature 3 <= 212.0)\n",
      "      If (feature 2 <= 2.0)\n",
      "       Predict: 0.0\n",
      "      Else (feature 2 > 2.0)\n",
      "       Predict: 0.0\n",
      "     Else (feature 3 > 212.0)\n",
      "      If (feature 4 <= 6.0)\n",
      "       Predict: 1.0\n",
      "      Else (feature 4 > 6.0)\n",
      "       Predict: 0.0\n",
      "\n"
     ]
    }
   ],
   "source": [
    "'''decision tree'''\n",
    "\n",
    "from pyspark.mllib.tree import DecisionTree, DecisionTreeModel\n",
    "\n",
    "# Train a DecisionTree model.\n",
    "# Empty categoricalFeaturesInfo indicates all features are continuous.\n",
    "modelDT = DecisionTree.trainClassifier(parsedTrainData, numClasses=2, categoricalFeaturesInfo={},\n",
    "                                     impurity='gini', maxDepth=5, maxBins=32)\n",
    "\n",
    "\n",
    "# Evaluate model on train instances and compute train error\n",
    "predictions_DTtrain = modelDT.predict(parsedTrainData.map(lambda x: x.features))\n",
    "labelsAndPredictions_DTtrain = parsedTrainData.map(lambda lp: lp.label).zip(predictions_DTtrain)\n",
    "trainErr_DT = labelsAndPredictions_DTtrain.filter(lambda (v, p): v != p).count() / float(parsedTrainData.count())\n",
    "print('Train Error of Decision Tree = ' + str(trainErr_DT))\n",
    "\n",
    "# Evaluate model on test instances and compute test error\n",
    "predictions_DTtest = modelDT.predict(parsedTestData.map(lambda x: x.features))\n",
    "labelsAndPredictions_DTtest = parsedTestData.map(lambda lp: lp.label).zip(predictions_DTtest)\n",
    "testErr_DT = labelsAndPredictions_DTtest.filter(lambda (v, p): v != p).count() / float(parsedTestData.count())\n",
    "print('Test Error of Decision Tree = ' + str(testErr_DT))\n",
    "print('Learned classification tree model:')\n",
    "print(modelDT.toDebugString())\n",
    "\n",
    "# Save and load model\n",
    "# model.save(sc, \"target/tmp/myDecisionTreeClassificationModel\")\n",
    "# sameModel = DecisionTreeModel.load(sc, \"target/tmp/myDecisionTreeClassificationModel\")"
   ]
  },
  {
   "cell_type": "code",
   "execution_count": 267,
   "metadata": {
    "collapsed": false
   },
   "outputs": [
    {
     "name": "stdout",
     "output_type": "stream",
     "text": [
      "Train Mean Squared Error = 0.0574612014634\n",
      "Test Mean Squared Error = 0.0592650213002\n",
      "Learned regression forest model:\n",
      "TreeEnsembleModel regressor with 3 trees\n",
      "\n",
      "  Tree 0:\n",
      "    If (feature 2 <= 2.0)\n",
      "     If (feature 4 <= 3.0)\n",
      "      If (feature 0 <= 0.47)\n",
      "       If (feature 1 <= 0.57)\n",
      "        Predict: 0.9606177606177606\n",
      "       Else (feature 1 > 0.57)\n",
      "        Predict: 0.0\n",
      "      Else (feature 0 > 0.47)\n",
      "       If (feature 0 <= 0.64)\n",
      "        Predict: 0.018633540372670808\n",
      "       Else (feature 0 > 0.64)\n",
      "        Predict: 0.05747126436781609\n",
      "     Else (feature 4 > 3.0)\n",
      "      If (feature 1 <= 0.93)\n",
      "       If (feature 4 <= 5.0)\n",
      "        Predict: 0.12337662337662338\n",
      "       Else (feature 4 > 5.0)\n",
      "        Predict: 0.0\n",
      "      Else (feature 1 > 0.93)\n",
      "       If (feature 7 <= 7.0)\n",
      "        Predict: 0.2\n",
      "       Else (feature 7 > 7.0)\n",
      "        Predict: 1.0\n",
      "    Else (feature 2 > 2.0)\n",
      "     If (feature 3 <= 272.0)\n",
      "      If (feature 4 <= 3.0)\n",
      "       If (feature 0 <= 0.1)\n",
      "        Predict: 1.0\n",
      "       Else (feature 0 > 0.1)\n",
      "        Predict: 0.009189640768588136\n",
      "      Else (feature 4 > 3.0)\n",
      "       If (feature 0 <= 0.12)\n",
      "        Predict: 0.9469964664310954\n",
      "       Else (feature 0 > 0.12)\n",
      "        Predict: 0.23969072164948454\n",
      "     Else (feature 3 > 272.0)\n",
      "      If (feature 1 <= 0.76)\n",
      "       If (feature 3 <= 283.0)\n",
      "        Predict: 0.05517241379310345\n",
      "       Else (feature 3 > 283.0)\n",
      "        Predict: 0.54\n",
      "      Else (feature 1 > 0.76)\n",
      "       If (feature 0 <= 0.12)\n",
      "        Predict: 1.0\n",
      "       Else (feature 0 > 0.12)\n",
      "        Predict: 0.3208955223880597\n",
      "  Tree 1:\n",
      "    If (feature 4 <= 2.0)\n",
      "     If (feature 7 <= 3.0)\n",
      "      If (feature 2 <= 6.0)\n",
      "       Predict: 0.0\n",
      "      Else (feature 2 > 6.0)\n",
      "       Predict: 1.0\n",
      "     Else (feature 7 > 3.0)\n",
      "      If (feature 0 <= 0.36)\n",
      "       If (feature 2 <= 3.0)\n",
      "        Predict: 0.02702702702702703\n",
      "       Else (feature 2 > 3.0)\n",
      "        Predict: 0.27848101265822783\n",
      "      Else (feature 0 > 0.36)\n",
      "       If (feature 1 <= 0.67)\n",
      "        Predict: 0.002328288707799767\n",
      "       Else (feature 1 > 0.67)\n",
      "        Predict: 0.021996615905245348\n",
      "    Else (feature 4 > 2.0)\n",
      "     If (feature 2 <= 2.0)\n",
      "      If (feature 0 <= 0.47)\n",
      "       If (feature 1 <= 0.57)\n",
      "        Predict: 0.9665851670741646\n",
      "       Else (feature 1 > 0.57)\n",
      "        Predict: 0.16049382716049382\n",
      "      Else (feature 0 > 0.47)\n",
      "       If (feature 1 <= 0.81)\n",
      "        Predict: 0.04946996466431095\n",
      "       Else (feature 1 > 0.81)\n",
      "        Predict: 0.18487394957983194\n",
      "     Else (feature 2 > 2.0)\n",
      "      If (feature 0 <= 0.12)\n",
      "       If (feature 3 <= 230.0)\n",
      "        Predict: 0.3125\n",
      "       Else (feature 3 > 230.0)\n",
      "        Predict: 0.9874476987447699\n",
      "      Else (feature 0 > 0.12)\n",
      "       If (feature 4 <= 4.0)\n",
      "        Predict: 0.023396530859217425\n",
      "       Else (feature 4 > 4.0)\n",
      "        Predict: 0.3627838104639684\n",
      "  Tree 2:\n",
      "    If (feature 1 <= 0.57)\n",
      "     If (feature 0 <= 0.47)\n",
      "      If (feature 0 <= 0.36)\n",
      "       If (feature 2 <= 2.0)\n",
      "        Predict: 0.7230769230769231\n",
      "       Else (feature 2 > 2.0)\n",
      "        Predict: 0.08582089552238806\n",
      "      Else (feature 0 > 0.36)\n",
      "       If (feature 2 <= 2.0)\n",
      "        Predict: 0.9653751030502885\n",
      "       Else (feature 2 > 2.0)\n",
      "        Predict: 0.05343511450381679\n",
      "     Else (feature 0 > 0.47)\n",
      "      If (feature 3 <= 249.0)\n",
      "       If (feature 4 <= 4.0)\n",
      "        Predict: 0.005150214592274678\n",
      "       Else (feature 4 > 4.0)\n",
      "        Predict: 0.02247191011235955\n",
      "      Else (feature 3 > 249.0)\n",
      "       If (feature 0 <= 0.81)\n",
      "        Predict: 0.0752212389380531\n",
      "       Else (feature 0 > 0.81)\n",
      "        Predict: 0.0\n",
      "    Else (feature 1 > 0.57)\n",
      "     If (feature 2 <= 5.0)\n",
      "      If (feature 0 <= 0.71)\n",
      "       If (feature 4 <= 3.0)\n",
      "        Predict: 0.01543596161869003\n",
      "       Else (feature 4 > 3.0)\n",
      "        Predict: 0.07493540051679587\n",
      "      Else (feature 0 > 0.71)\n",
      "       If (feature 2 <= 4.0)\n",
      "        Predict: 0.10590631364562118\n",
      "       Else (feature 2 > 4.0)\n",
      "        Predict: 0.3903107861060329\n",
      "     Else (feature 2 > 5.0)\n",
      "      If (feature 0 <= 0.12)\n",
      "       If (feature 0 <= 0.1)\n",
      "        Predict: 1.0\n",
      "       Else (feature 0 > 0.1)\n",
      "        Predict: 0.9922779922779923\n",
      "      Else (feature 0 > 0.12)\n",
      "       If (feature 2 <= 6.0)\n",
      "        Predict: 0.09593023255813954\n",
      "       Else (feature 2 > 6.0)\n",
      "        Predict: 1.0\n",
      "\n"
     ]
    }
   ],
   "source": [
    "'''Random Forest'''\n",
    "from pyspark.mllib.tree import RandomForest, RandomForestModel\n",
    "\n",
    "# Train a RandomForest model.\n",
    "#  Empty categoricalFeaturesInfo indicates all features are continuous.\n",
    "#  Note: Use larger numTrees in practice.\n",
    "#  Setting featureSubsetStrategy=\"auto\" lets the algorithm choose.\n",
    "modelRF = RandomForest.trainRegressor(parsedTrainData, categoricalFeaturesInfo={},\n",
    "                                    numTrees=3, featureSubsetStrategy=\"auto\",\n",
    "                                    impurity='variance', maxDepth=4, maxBins=32)\n",
    "\n",
    "# Evaluate model on test instances and compute test error\n",
    "predictions_RFtrain = modelRF.predict(parsedTrainData.map(lambda x: x.features))\n",
    "labelsAndPredictions_RFtrain = parsedTrainData.map(lambda lp: lp.label).zip(predictions_RFtrain)\n",
    "trainMSE_RF = labelsAndPredictions_RFtrain.map(lambda (v, p): (v - p) * (v - p)).sum() /\\\n",
    "    float(parsedTrainData.count())\n",
    "print('Train Mean Squared Error = ' + str(trainMSE_RF))\n",
    "\n",
    "# Evaluate model on test instances and compute test error\n",
    "predictions_RFtest = modelRF.predict(parsedTestData.map(lambda x: x.features))\n",
    "labelsAndPredictions_RFtest = parsedTestData.map(lambda lp: lp.label).zip(predictions_RFtest)\n",
    "testMSE_RF = labelsAndPredictions_RFtest.map(lambda (v, p): (v - p) * (v - p)).sum() /\\\n",
    "    float(parsedTestData.count())\n",
    "print('Test Mean Squared Error = ' + str(testMSE_RF))\n",
    "print('Learned regression forest model:')\n",
    "print(modelRF.toDebugString())\n",
    "\n",
    "# Save and load model\n",
    "# model.save(sc, \"target/tmp/myRandomForestRegressionModel\")\n",
    "# sameModel = RandomForestModel.load(sc, \"target/tmp/myRandomForestRegressionModel\")"
   ]
  },
  {
   "cell_type": "code",
   "execution_count": 268,
   "metadata": {
    "collapsed": false
   },
   "outputs": [
    {
     "data": {
      "text/html": [
       "<div>\n",
       "<table border=\"1\" class=\"dataframe\">\n",
       "  <thead>\n",
       "    <tr style=\"text-align: right;\">\n",
       "      <th></th>\n",
       "      <th>Model</th>\n",
       "      <th>Testing_Error</th>\n",
       "      <th>Training_Error</th>\n",
       "    </tr>\n",
       "  </thead>\n",
       "  <tbody>\n",
       "    <tr>\n",
       "      <th>2</th>\n",
       "      <td>Decision Tree</td>\n",
       "      <td>0.026352</td>\n",
       "      <td>0.027262</td>\n",
       "    </tr>\n",
       "    <tr>\n",
       "      <th>3</th>\n",
       "      <td>Random Forest</td>\n",
       "      <td>0.059265</td>\n",
       "      <td>0.057461</td>\n",
       "    </tr>\n",
       "    <tr>\n",
       "      <th>0</th>\n",
       "      <td>Logistic Regression</td>\n",
       "      <td>0.192788</td>\n",
       "      <td>0.182217</td>\n",
       "    </tr>\n",
       "    <tr>\n",
       "      <th>1</th>\n",
       "      <td>SVM</td>\n",
       "      <td>0.243412</td>\n",
       "      <td>0.236908</td>\n",
       "    </tr>\n",
       "  </tbody>\n",
       "</table>\n",
       "</div>"
      ],
      "text/plain": [
       "                 Model  Testing_Error  Training_Error\n",
       "2        Decision Tree       0.026352        0.027262\n",
       "3        Random Forest       0.059265        0.057461\n",
       "0  Logistic Regression       0.192788        0.182217\n",
       "1                  SVM       0.243412        0.236908"
      ]
     },
     "execution_count": 268,
     "metadata": {},
     "output_type": "execute_result"
    }
   ],
   "source": [
    "models = pd.DataFrame({\n",
    "        'Model'          : ['Logistic Regression', 'SVM', 'Decision Tree', 'Random Forest'],\n",
    "        'Training_Error' : [trainErr_LR, trainErr_SVM, trainErr_DT, trainMSE_RF],\n",
    "        'Testing_Error'  : [testErr_LR, testErr_SVM, testErr_DT, testMSE_RF]\n",
    "    })\n",
    "models.sort_values(by='Testing_Error', ascending=True)"
   ]
  },
  {
   "cell_type": "code",
   "execution_count": null,
   "metadata": {
    "collapsed": true
   },
   "outputs": [],
   "source": []
  }
 ],
 "metadata": {
  "kernelspec": {
   "display_name": "Python 2",
   "language": "python",
   "name": "python2"
  },
  "language_info": {
   "codemirror_mode": {
    "name": "ipython",
    "version": 2
   },
   "file_extension": ".py",
   "mimetype": "text/x-python",
   "name": "python",
   "nbconvert_exporter": "python",
   "pygments_lexer": "ipython2",
   "version": "2.7.13"
  }
 },
 "nbformat": 4,
 "nbformat_minor": 0
}
