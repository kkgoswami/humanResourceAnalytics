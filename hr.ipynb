{
 "cells": [
  {
   "cell_type": "code",
   "execution_count": 3,
   "metadata": {
    "collapsed": false
   },
   "outputs": [],
   "source": [
    "from pyspark.context import SparkContext\n",
    "from pyspark.mllib.regression import LabeledPoint\n",
    "import numpy as np"
   ]
  },
  {
   "cell_type": "code",
   "execution_count": 4,
   "metadata": {
    "collapsed": false
   },
   "outputs": [],
   "source": [
    "sc = SparkContext.getOrCreate()\n",
    "\n",
    "#sqlContext = SparkSession.builder.master(\"local[*]\").appName(\"appName\")\\\n",
    "#                         .config(\"spark.sql.warehouse.dir\", \"./spark-warehouse\").getOrCreate()\n"
   ]
  },
  {
   "cell_type": "code",
   "execution_count": 5,
   "metadata": {
    "collapsed": false
   },
   "outputs": [
    {
     "name": "stdout",
     "output_type": "stream",
     "text": [
      "[['satisfaction_level', 'last_evaluation', 'number_project', 'average_montly_hours', 'time_spend_company', 'Work_accident', 'left', 'promotion_last_5years', 'sales', 'salary'], ['0.38', '0.53', '2', '157', '3', '0', '1', '0', 'sales', 'low'], ['0.8', '0.86', '5', '262', '6', '0', '1', '0', 'sales', 'medium'], ['0.11', '0.88', '7', '272', '4', '0', '1', '0', 'sales', 'medium'], ['0.72', '0.87', '5', '223', '5', '0', '1', '0', 'sales', 'low']]\n"
     ]
    }
   ],
   "source": [
    "#Reading the data\n",
    "\n",
    "\n",
    "\n",
    "\n",
    "dataRDD = sc.textFile(\"HR_comma_sep.csv\")\\\n",
    "         .map(lambda line: line.split(\",\"))\\\n",
    "         .filter(lambda line: len(line)>1)\\\n",
    "         .map(lambda line: [x.encode('UTF8') for x in line])\\\n",
    "         .cache()\n",
    "\n",
    "\n",
    "print dataRDD.take(5)"
   ]
  },
  {
   "cell_type": "code",
   "execution_count": 6,
   "metadata": {
    "collapsed": false
   },
   "outputs": [],
   "source": [
    "header = dataRDD.first()\n",
    "dataRDD = dataRDD.filter(lambda x: x != header)\n",
    "all_depts = list(set(dataRDD.map(lambda line: line[-2]).collect()))\n",
    "all_salaries = list(set(dataRDD.map(lambda line: line[-1]).collect()))"
   ]
  },
  {
   "cell_type": "code",
   "execution_count": 7,
   "metadata": {
    "collapsed": false
   },
   "outputs": [
    {
     "name": "stdout",
     "output_type": "stream",
     "text": [
      "[['0.38', '0.53', '2', '157', '3', '0', '1', '0', 'sales', 'low'], ['0.8', '0.86', '5', '262', '6', '0', '1', '0', 'sales', 'medium'], ['0.11', '0.88', '7', '272', '4', '0', '1', '0', 'sales', 'medium'], ['0.72', '0.87', '5', '223', '5', '0', '1', '0', 'sales', 'low'], ['0.37', '0.52', '2', '159', '3', '0', '1', '0', 'sales', 'low']]\n"
     ]
    }
   ],
   "source": [
    "print dataRDD.collect()[:5]"
   ]
  },
  {
   "cell_type": "code",
   "execution_count": 8,
   "metadata": {
    "collapsed": false
   },
   "outputs": [
    {
     "name": "stdout",
     "output_type": "stream",
     "text": [
      "['management', 'product_mng', 'hr', 'marketing', 'support', 'sales', 'RandD', 'IT', 'technical', 'accounting']\n",
      "['high', 'medium', 'low']\n",
      "{'high': 0, 'medium': 1, 'low': 2}\n",
      "{'management': 0, 'product_mng': 1, 'hr': 2, 'marketing': 3, 'support': 4, 'sales': 5, 'RandD': 6, 'IT': 7, 'technical': 8, 'accounting': 9}\n"
     ]
    }
   ],
   "source": [
    "print all_depts\n",
    "dept_dictionary = {}\n",
    "for i in all_depts: \n",
    "    dept_dictionary[i] = all_depts.index(i)\n",
    "\n",
    "print all_salaries \n",
    "\n",
    "salary_dictionary = {}\n",
    "\n",
    "for i in all_salaries: \n",
    "    salary_dictionary[i] = all_salaries.index(i)\n",
    "    \n",
    "print salary_dictionary\n",
    "print dept_dictionary"
   ]
  },
  {
   "cell_type": "code",
   "execution_count": 9,
   "metadata": {
    "collapsed": true
   },
   "outputs": [],
   "source": [
    "def parsePoint(line):\n",
    "    \"\"\"Converts a list of strings into a LabeledPoint\"\"\"\n",
    "    \n",
    "    line[-2], line[-1] = dept_dictionary[line[-2]], salary_dictionary[line[-1]]\n",
    "    \n",
    "    datapoints = line[1:-4] + line[-3:]\n",
    "    \n",
    "    return LabeledPoint(float(line[-4]),[float(i) for i in datapoints])"
   ]
  },
  {
   "cell_type": "code",
   "execution_count": 10,
   "metadata": {
    "collapsed": false
   },
   "outputs": [
    {
     "name": "stdout",
     "output_type": "stream",
     "text": [
      "[0.53,2.0,157.0,3.0,0.0,0.0,5.0,2.0] 1.0\n"
     ]
    }
   ],
   "source": [
    "parsedData = dataRDD.map(parsePoint)\n",
    "firstPointFeatures = parsedData.first().features\n",
    "firstPointLabel = parsedData.first().label\n",
    "print firstPointFeatures, firstPointLabel"
   ]
  },
  {
   "cell_type": "code",
   "execution_count": 11,
   "metadata": {
    "collapsed": false
   },
   "outputs": [
    {
     "name": "stdout",
     "output_type": "stream",
     "text": [
      "12068 1489 1442 14999\n",
      "14999\n"
     ]
    }
   ],
   "source": [
    "weights = [.8, .1, .1]\n",
    "seed = 42\n",
    "parsedTrainData, parsedValData, parsedTestData = parsedData.randomSplit(weights,seed)\n",
    "parsedTrainData.cache()\n",
    "parsedValData.cache()\n",
    "parsedTestData.cache()\n",
    "nTrain = parsedTrainData.count()\n",
    "nVal = parsedValData.count()\n",
    "nTest = parsedTestData.count()\n",
    "print nTrain, nVal, nTest, nTrain + nVal + nTest \n",
    "print parsedData.count()"
   ]
  },
  {
   "cell_type": "code",
   "execution_count": 12,
   "metadata": {
    "collapsed": false
   },
   "outputs": [
    {
     "ename": "NameError",
     "evalue": "name 'p' is not defined",
     "output_type": "error",
     "traceback": [
      "\u001b[0;31m---------------------------------------------------------------------------\u001b[0m",
      "\u001b[0;31mNameError\u001b[0m                                 Traceback (most recent call last)",
      "\u001b[0;32m<ipython-input-12-d74604071e98>\u001b[0m in \u001b[0;36m<module>\u001b[0;34m()\u001b[0m\n\u001b[1;32m      1\u001b[0m \u001b[0;32mfrom\u001b[0m \u001b[0mpyspark\u001b[0m\u001b[0;34m.\u001b[0m\u001b[0mmllib\u001b[0m\u001b[0;34m.\u001b[0m\u001b[0mclassification\u001b[0m \u001b[0;32mimport\u001b[0m \u001b[0mLogisticRegressionWithLBFGS\u001b[0m\u001b[0;34m,\u001b[0m \u001b[0mLogisticRegressionModel\u001b[0m\u001b[0;34m\u001b[0m\u001b[0m\n\u001b[1;32m      2\u001b[0m \u001b[0;34m\u001b[0m\u001b[0m\n\u001b[0;32m----> 3\u001b[0;31m \u001b[0mmodel\u001b[0m \u001b[0;34m=\u001b[0m \u001b[0mLogisticRegressionWithLBFGS\u001b[0m\u001b[0;34m.\u001b[0m\u001b[0mtrain\u001b[0m\u001b[0;34m(\u001b[0m\u001b[0mp\u001b[0m\u001b[0;34m)\u001b[0m\u001b[0;34m\u001b[0m\u001b[0m\n\u001b[0m\u001b[1;32m      4\u001b[0m \u001b[0;34m\u001b[0m\u001b[0m\n\u001b[1;32m      5\u001b[0m \u001b[0mlabelsAndPreds\u001b[0m \u001b[0;34m=\u001b[0m \u001b[0mparsedData\u001b[0m\u001b[0;34m.\u001b[0m\u001b[0mmap\u001b[0m\u001b[0;34m(\u001b[0m\u001b[0;32mlambda\u001b[0m \u001b[0mp\u001b[0m\u001b[0;34m:\u001b[0m \u001b[0;34m(\u001b[0m\u001b[0mp\u001b[0m\u001b[0;34m.\u001b[0m\u001b[0mlabel\u001b[0m\u001b[0;34m,\u001b[0m \u001b[0mmodel\u001b[0m\u001b[0;34m.\u001b[0m\u001b[0mpredict\u001b[0m\u001b[0;34m(\u001b[0m\u001b[0mp\u001b[0m\u001b[0;34m.\u001b[0m\u001b[0mfeatures\u001b[0m\u001b[0;34m)\u001b[0m\u001b[0;34m)\u001b[0m\u001b[0;34m)\u001b[0m\u001b[0;34m\u001b[0m\u001b[0m\n",
      "\u001b[0;31mNameError\u001b[0m: name 'p' is not defined"
     ]
    }
   ],
   "source": [
    "from pyspark.mllib.classification import LogisticRegressionWithLBFGS, LogisticRegressionModel\n",
    "\n",
    "model = LogisticRegressionWithLBFGS.train(parsedTrainData)\n",
    "\n",
    "labelsAndPreds = parsedData.map(lambda p: (p.label, model.predict(p.features)))\n",
    "trainErr = labelsAndPreds.filter(lambda (v, p): v != p).count() / float(parsedData.count())\n",
    "print(\"Training Error = \" + str(trainErr))\n",
    "\n",
    "#model.save(sc, \"target/tmp/pythonLogisticRegressionWithLBFGSModel\")\n",
    "#sameModel = LogisticRegressionModel.load(sc, \"target/tmp/pythonLogisticRegressionWithLBFGSModel\")\n"
   ]
  },
  {
   "cell_type": "code",
   "execution_count": null,
   "metadata": {
    "collapsed": true
   },
   "outputs": [],
   "source": []
  }
 ],
 "metadata": {
  "kernelspec": {
   "display_name": "Python 2",
   "language": "python",
   "name": "python2"
  }
 },
 "nbformat": 4,
 "nbformat_minor": 0
}
